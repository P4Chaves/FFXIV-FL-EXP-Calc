{
 "cells": [
  {
   "cell_type": "code",
   "execution_count": null,
   "metadata": {},
   "outputs": [],
   "source": [
    "#Frontline EXP calculator\n",
    "#Dawntrail Patch (7.1+)\n",
    "#Experience values for each mode.\n",
    "frontlineDailyWin_Exp = 3000\n",
    "frontlineDailyLose_Exp = 2500\n",
    "frontlineDailyLose2_Exp = 2750\n",
    "frontlineWin_Exp = 1500\n",
    "frontlineLose_Exp = 1000\n",
    "frontlineLose2_Exp = 1250\n",
    "rivalwingsWin_Exp = 1250\n",
    "rivalwingsLose_Exp = 750\n",
    "CrystalineWin_Exp = 900\n",
    "CrystalineLose_Exp = 700\n",
    "\n",
    "#List of experience needed to reach each level.\n",
    "pvpLvl = [0, 0, 2000, 4000, 6000, 8000, 11000, 14000, 17000, 20000, 23000, 27000, 31000, 35000, 39000, 43000, 48500, 54000, 59500, 65000, 70500, 78000, 85500, 93000, 100500, 108000, 118000, 128000, 138000, 148000, 158000, 178000, 198000, 218000, 238000, 258000, 278000, 298000, 318000, 338000, 358000]\n"
   ]
  }
 ],
 "metadata": {
  "language_info": {
   "name": "python"
  }
 },
 "nbformat": 4,
 "nbformat_minor": 2
}
