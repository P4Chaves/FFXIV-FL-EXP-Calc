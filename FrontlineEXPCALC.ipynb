{
 "cells": [
  {
   "cell_type": "code",
   "execution_count": 2,
   "metadata": {},
   "outputs": [],
   "source": [
    "#Frontline EXP calculator\n",
    "#Dawntrail Patch (7.1+)\n",
    "#Experience values for each mode.\n",
    "frontlineDailyWin_Exp = 3000\n",
    "frontlineDailyLose_Exp = 2500\n",
    "frontlineDailyLose2_Exp = 2750\n",
    "frontlineWin_Exp = 1500\n",
    "frontlineLose_Exp = 1000\n",
    "frontlineLose2_Exp = 1250\n",
    "rivalwingsWin_Exp = 1250\n",
    "rivalwingsLose_Exp = 750\n",
    "CrystalineWin_Exp = 900\n",
    "CrystalineLose_Exp = 700\n",
    "\n",
    "#List of experience needed to reach each level.\n",
    "pvpLvl = [0, 0, 2000, 4000, 6000, 8000, 11000, 14000, 17000, 20000, 23000, 27000, 31000, 35000, 39000, 43000, 48500, 54000, 59500, 65000, 70500, 78000, 85500, 93000, 100500, 108000, 118000, 128000, 138000, 148000, 158000, 178000, 198000, 218000, 238000, 258000, 278000, 298000, 318000, 338000, 358000]\n",
    "\n",
    "#User inputs for their current level, target level, and experience.\n",
    "currentLvl = int(input(\"Enter your current level (max 39): \\n\"))\n",
    "targetLvl = int(input(\"Enter your desired level (max 40): \\n\"))\n",
    "xpProgress = int(input(\"Enter your current EXP towards the next level (max 19999): \\n\"))\n",
    "\n",
    "#Mapping user input level to corresponding EXP value from pvpLevels.\n",
    "currentLvlXP = int(pvpLvl[currentLvl])\n",
    "\n",
    "#Mapping target level to corresponding EXP value from pvpLevels.\n",
    "targetLvlXP = int(pvpLvl[targetLvl])\n",
    "\n",
    "#Calculates the remaining EXP needed by subtracting current and target EXP.\n",
    "remainingXP = ((targetLvlXP) - (currentLvlXP) - (xpProgress))\n"
   ]
  }
 ],
 "metadata": {
  "kernelspec": {
   "display_name": "Python 3",
   "language": "python",
   "name": "python3"
  },
  "language_info": {
   "codemirror_mode": {
    "name": "ipython",
    "version": 3
   },
   "file_extension": ".py",
   "mimetype": "text/x-python",
   "name": "python",
   "nbconvert_exporter": "python",
   "pygments_lexer": "ipython3",
   "version": "3.12.3"
  }
 },
 "nbformat": 4,
 "nbformat_minor": 2
}
